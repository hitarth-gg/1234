{
  "cells": [
    {
      "cell_type": "markdown",
      "metadata": {
        "id": "view-in-github",
        "colab_type": "text"
      },
      "source": [
        "<a href=\"https://colab.research.google.com/github/hitvrth/1234/blob/main/Lec_2_Control_Flow.ipynb\" target=\"_parent\"><img src=\"https://colab.research.google.com/assets/colab-badge.svg\" alt=\"Open In Colab\"/></a>"
      ]
    },
    {
      "cell_type": "markdown",
      "metadata": {
        "id": "RVQJRMi7EuIN"
      },
      "source": [
        "# Different Control flows in python"
      ]
    },
    {
      "cell_type": "code",
      "execution_count": null,
      "metadata": {
        "colab": {
          "base_uri": "https://localhost:8080/"
        },
        "id": "a6ptBqeXEuIO",
        "outputId": "78da2f8c-60d7-41fb-bb59-b13d889813b2"
      },
      "outputs": [
        {
          "output_type": "stream",
          "name": "stdout",
          "text": [
            "TRUE\n",
            "IT is less than five\n"
          ]
        }
      ],
      "source": [
        "n = 4\n",
        "if (n < 5):\n",
        "    print(\"TRUE\")\n",
        "    print(\"IT is less than five\")"
      ]
    },
    {
      "cell_type": "code",
      "source": [
        "#write a code to print TRUE if n < = 11\n",
        "\n",
        "\n",
        "\n",
        "\n",
        "\n",
        "\n",
        "\n",
        "\n"
      ],
      "metadata": {
        "id": "VClc20O5F0Rl"
      },
      "execution_count": null,
      "outputs": []
    },
    {
      "cell_type": "code",
      "execution_count": null,
      "metadata": {
        "colab": {
          "base_uri": "https://localhost:8080/"
        },
        "id": "NxNuVXFlEuIP",
        "outputId": "29ef4345-e1a1-434a-e896-42b17a06a5b0"
      },
      "outputs": [
        {
          "output_type": "stream",
          "name": "stdout",
          "text": [
            "pls give a number: 12\n",
            "12\n"
          ]
        }
      ],
      "source": [
        "i = int(input(\"pls give a number: \"))\n",
        "print(i)\n",
        "#dynamic input given to i"
      ]
    },
    {
      "cell_type": "code",
      "execution_count": null,
      "metadata": {
        "id": "onBWBZeqEuIQ"
      },
      "outputs": [],
      "source": [
        "#take a number as input and print GT5\n",
        "#if greater than 5\n",
        "\n",
        "\n",
        "\n",
        "\n",
        "\n",
        "\n",
        "\n",
        "\n"
      ]
    },
    {
      "cell_type": "code",
      "execution_count": null,
      "metadata": {
        "id": "RXgmf-jyEuIR",
        "outputId": "2db0e3ab-73aa-4016-96c9-57b4151ef7bd"
      },
      "outputs": [
        {
          "name": "stdout",
          "output_type": "stream",
          "text": [
            "TRUE\n",
            "IT is less than five\n"
          ]
        }
      ],
      "source": [
        "n = 4\n",
        "if (n < 5):\n",
        "    print(\"TRUE\")\n",
        "    print(\"IT is less than five\")\n",
        "else:\n",
        "    print(\"FALSE\")"
      ]
    },
    {
      "cell_type": "code",
      "source": [
        "#take an input no if less than five print LT5 else print GE5"
      ],
      "metadata": {
        "id": "ItaiQvDtHqo8"
      },
      "execution_count": null,
      "outputs": []
    },
    {
      "cell_type": "code",
      "execution_count": null,
      "metadata": {
        "id": "xjK7MI4_EuIR"
      },
      "outputs": [],
      "source": [
        "#Positive Negative zero"
      ]
    },
    {
      "cell_type": "code",
      "execution_count": null,
      "metadata": {
        "id": "A414_aHGEuIS",
        "outputId": "32d9450d-468a-4c32-ce4a-d8fbdbfdfd0e"
      },
      "outputs": [
        {
          "name": "stdout",
          "output_type": "stream",
          "text": [
            "Enter a number:9\n",
            "intst is 2\n"
          ]
        }
      ],
      "source": [
        "#Mutually Exclusive Completely Exhaustive\n",
        "\n",
        "incom=int(input(\"Enter a number:\"))\n",
        "if incom>10:\n",
        "    print(\"intst is 4\")\n",
        "elif incom>=5 and incom<=10:\n",
        "    print(\"intst is 2\")\n",
        "elif incom>=2 and incom<5:\n",
        "    print(\"intst is 1\")\n",
        "else:\n",
        "    print(\"intst is zero\")\n"
      ]
    },
    {
      "cell_type": "code",
      "execution_count": null,
      "metadata": {
        "id": "5kveE5u5EuIS"
      },
      "outputs": [],
      "source": [
        "# take salary as input\n",
        "# print final amount\n",
        "#slabs -upto 2 lakh - no tax\n",
        "#2 lakh to 5 lakh - 10 percent tax\n",
        "#5 lakh to 10 lakh - 20 percent tax\n",
        "#more than 10 lakh - 30 percent tax\n",
        "\n",
        "\n",
        "\n",
        "#Final = salary - tax\n",
        "\n",
        "\n",
        "\n",
        "\n",
        "\n",
        "\n",
        "\n"
      ]
    },
    {
      "cell_type": "code",
      "execution_count": null,
      "metadata": {
        "id": "ELYQbXfPEuIS",
        "outputId": "6e9fae10-d881-4d17-cd7c-58d67514328f"
      },
      "outputs": [
        {
          "name": "stdout",
          "output_type": "stream",
          "text": [
            "Enter a number:  12131313\n",
            "30 percent tax applicable\n",
            "3639393.9\n"
          ]
        }
      ],
      "source": [
        "sal  = int(input(\"Enter a number:  \"))\n",
        "if  sal>=0 and sal<=200000:\n",
        "    print(\"No Tax is Applicable\")\n",
        "elif sal>=200001 and sal<=500000:\n",
        "    print(\"10 percent tax applicable\")\n",
        "    tax =sal*0.1\n",
        "    print(tax)\n",
        "elif sal>= 500001 and sal<=1000000:\n",
        "    print(\"20 percent tax applicable\")\n",
        "    tax = sal*0.2\n",
        "    print(tax)\n",
        "else:\n",
        "    print(\"30 percent tax applicable\")\n",
        "    tax = sal*0.3\n",
        "    print(tax)"
      ]
    },
    {
      "cell_type": "code",
      "execution_count": null,
      "metadata": {
        "id": "ZCDKgLSwEuIT"
      },
      "outputs": [],
      "source": [
        "def computeTax(sal):\n",
        "    if  sal>=0 and sal<=200000:\n",
        "        print(\"No Tax is Applicable\")\n",
        "        return(0)\n",
        "    elif sal>=200001 and sal<=500000:\n",
        "        print(\"10 percent tax applicable\")\n",
        "        tax =sal*0.1\n",
        "        return(tax)\n",
        "    elif sal>= 500001 and sal<=1000000:\n",
        "        print(\"20 percent tax applicable\")\n",
        "        tax = sal*0.2\n",
        "        return(tax)\n",
        "    else:\n",
        "        print(\"30 percent tax applicable\")\n",
        "        tax = sal*0.3\n",
        "        return(tax)\n",
        "\n"
      ]
    },
    {
      "cell_type": "code",
      "execution_count": null,
      "metadata": {
        "id": "LnHLRjkuEuIT",
        "outputId": "a72f715a-1539-41c1-c410-08db5dcc0971"
      },
      "outputs": [
        {
          "name": "stdout",
          "output_type": "stream",
          "text": [
            "0\n",
            "1\n",
            "2\n",
            "3\n",
            "4\n",
            "5\n",
            "6\n",
            "7\n",
            "8\n",
            "9\n"
          ]
        }
      ],
      "source": [
        "\n",
        "\n",
        "for i in range(10):  #range is the number sequence 0 to n -1\n",
        "    print(i)\n",
        "\n"
      ]
    },
    {
      "cell_type": "code",
      "source": [
        "#print all odd characters in string s\n",
        "s = '012345678903'\n",
        "for i in range(len(s)):\n",
        "  if i%2 ==0:\n",
        "    print(s[i])"
      ],
      "metadata": {
        "colab": {
          "base_uri": "https://localhost:8080/"
        },
        "id": "jn-s3w6BAiyF",
        "outputId": "85dbec1a-0d63-4a89-ebed-76de7074816c"
      },
      "execution_count": null,
      "outputs": [
        {
          "output_type": "stream",
          "name": "stdout",
          "text": [
            "0\n",
            "2\n",
            "4\n",
            "6\n",
            "8\n",
            "0\n"
          ]
        }
      ]
    },
    {
      "cell_type": "code",
      "source": [
        "s=\"addnfkfhgfkfnfnfkf\"    #print all characters in a string\n",
        "for i in range(len(s)):\n",
        "  print(i,\" charcater is \",s[i])"
      ],
      "metadata": {
        "colab": {
          "base_uri": "https://localhost:8080/"
        },
        "id": "qWCOzOBZKTyA",
        "outputId": "f5fd3955-a615-4119-eb58-a8c47e23a0e8"
      },
      "execution_count": null,
      "outputs": [
        {
          "output_type": "stream",
          "name": "stdout",
          "text": [
            "0  charcater is  a\n",
            "1  charcater is  d\n",
            "2  charcater is  d\n",
            "3  charcater is  n\n",
            "4  charcater is  f\n",
            "5  charcater is  k\n",
            "6  charcater is  f\n",
            "7  charcater is  h\n",
            "8  charcater is  g\n",
            "9  charcater is  f\n",
            "10  charcater is  k\n",
            "11  charcater is  f\n",
            "12  charcater is  n\n",
            "13  charcater is  f\n",
            "14  charcater is  n\n",
            "15  charcater is  f\n",
            "16  charcater is  k\n",
            "17  charcater is  f\n"
          ]
        }
      ]
    },
    {
      "cell_type": "code",
      "source": [
        "#for a given string s print only odd characters remainder function is %   4%2"
      ],
      "metadata": {
        "id": "CgAw6EoHKw8q"
      },
      "execution_count": null,
      "outputs": []
    },
    {
      "cell_type": "code",
      "source": [
        "print(4%2)"
      ],
      "metadata": {
        "colab": {
          "base_uri": "https://localhost:8080/"
        },
        "id": "bxFX3dDaLEkW",
        "outputId": "f3d62d16-0f29-466c-9bdb-a18a5219b292"
      },
      "execution_count": null,
      "outputs": [
        {
          "output_type": "stream",
          "name": "stdout",
          "text": [
            "0\n"
          ]
        }
      ]
    },
    {
      "cell_type": "code",
      "source": [
        "\n",
        "#can you print the sum of all positive odd integer numbers upto n including n\n",
        "\n",
        "\n",
        "\n",
        "\n",
        "\n",
        "\n",
        "\n",
        "\n",
        "\n",
        "\n",
        "\n",
        "\n",
        "\n",
        "\n",
        "\n"
      ],
      "metadata": {
        "id": "jbvwC87oLlby"
      },
      "execution_count": null,
      "outputs": []
    },
    {
      "cell_type": "code",
      "execution_count": null,
      "metadata": {
        "id": "WI3gwwmKEuIU",
        "outputId": "6a8ed973-dbf6-45d4-e30f-637443285ec1"
      },
      "outputs": [
        {
          "name": "stdout",
          "output_type": "stream",
          "text": [
            "1\n",
            "3\n",
            "5\n",
            "7\n",
            "9\n",
            "11\n",
            "13\n"
          ]
        }
      ],
      "source": [
        "#can you print all odd numbers between 0 to n-1\n",
        "for i in range(15):\n",
        "    if i%2==1:\n",
        "        print(i)\n",
        "\n",
        "#can you print the sum of all positive integer numbers upto n\n",
        "#1+2+3+4...+n"
      ]
    },
    {
      "cell_type": "code",
      "execution_count": null,
      "metadata": {
        "id": "BGaFPkgAEuIU",
        "outputId": "8c2a6977-4ba1-4f3b-acdc-e3d234582cd7"
      },
      "outputs": [
        {
          "name": "stdout",
          "output_type": "stream",
          "text": [
            "630\n"
          ]
        }
      ],
      "source": [
        "n = 35\n",
        "sum = 0\n",
        "for i in range(1,n+1):\n",
        "    sum = sum + i\n",
        "print(sum)\n"
      ]
    },
    {
      "cell_type": "code",
      "execution_count": null,
      "metadata": {
        "id": "2toKT2h9EuIU"
      },
      "outputs": [],
      "source": [
        "#define a function facto which takes n as input and returns factorial of n\n",
        "# 1 X 2 X 3 X ...X n\n",
        "def facto(n):\n",
        "    f=1\n",
        "    for i in range(1,n+1):\n",
        "        f=f*i\n",
        "    return f"
      ]
    },
    {
      "cell_type": "code",
      "execution_count": null,
      "metadata": {
        "id": "L-Ne5kQDEuIU",
        "outputId": "a5fb97e6-2902-4be5-9be7-7b0084091865"
      },
      "outputs": [
        {
          "data": {
            "text/plain": [
              "24"
            ]
          },
          "execution_count": 46,
          "metadata": {},
          "output_type": "execute_result"
        }
      ],
      "source": [
        "facto(4)"
      ]
    },
    {
      "cell_type": "code",
      "execution_count": null,
      "metadata": {
        "id": "bf46d_48EuIU",
        "outputId": "91603263-aeeb-4b84-83ab-7803aa403e0c"
      },
      "outputs": [
        {
          "data": {
            "text/plain": [
              "720"
            ]
          },
          "execution_count": 47,
          "metadata": {},
          "output_type": "execute_result"
        }
      ],
      "source": [
        "facto(6)"
      ]
    },
    {
      "cell_type": "code",
      "execution_count": null,
      "metadata": {
        "id": "lNbDVWXlEuIV"
      },
      "outputs": [],
      "source": [
        "#given a number n write a function oddFactorial which is product of all\n",
        "#odd numbers from 1 to n included\n",
        "def oddFactorial(n):\n",
        "    result = 1\n",
        "    for i in range (1,n+1):\n",
        "        if(i%2 == 1):\n",
        "            result *= i\n",
        "    return result"
      ]
    },
    {
      "cell_type": "code",
      "execution_count": null,
      "metadata": {
        "id": "b4W74UVLEuIV",
        "outputId": "beede185-243c-4574-8263-4f3f56da98cc"
      },
      "outputs": [
        {
          "data": {
            "text/plain": [
              "3"
            ]
          },
          "execution_count": 49,
          "metadata": {},
          "output_type": "execute_result"
        }
      ],
      "source": [
        "oddFactorial(3)"
      ]
    },
    {
      "cell_type": "code",
      "execution_count": null,
      "metadata": {
        "id": "600YpY4iEuIV"
      },
      "outputs": [],
      "source": [
        "# can you given a number return True if it is odd else False isOdd\n",
        "\n",
        "def isOdd(num=2):  #default invoked when function is invoked without\n",
        "                                        #arguments\n",
        "    if num%2 == 1:\n",
        "        print(\"Num is Odd\")\n",
        "        return True\n",
        "    else:\n",
        "        return False"
      ]
    },
    {
      "cell_type": "code",
      "execution_count": null,
      "metadata": {
        "id": "AUNKhwayEuIV",
        "outputId": "7f50718b-9ecb-4b3e-e661-ba8a50ca4286"
      },
      "outputs": [
        {
          "data": {
            "text/plain": [
              "False"
            ]
          },
          "execution_count": 41,
          "metadata": {},
          "output_type": "execute_result"
        }
      ],
      "source": [
        "isOdd()"
      ]
    },
    {
      "cell_type": "code",
      "execution_count": null,
      "metadata": {
        "id": "66ByLCcLEuIV",
        "outputId": "f64d55e3-ab53-40fc-adf1-fbfe484ea34c"
      },
      "outputs": [
        {
          "name": "stdout",
          "output_type": "stream",
          "text": [
            "30 percent tax applicable\n"
          ]
        },
        {
          "data": {
            "text/plain": [
              "600000.0"
            ]
          },
          "execution_count": 28,
          "metadata": {},
          "output_type": "execute_result"
        }
      ],
      "source": [
        "computeTax(2000000)"
      ]
    },
    {
      "cell_type": "code",
      "execution_count": null,
      "metadata": {
        "id": "g2NVlIc1EuIW"
      },
      "outputs": [],
      "source": [
        "#income = 3\n",
        "#if income > 10 then intst is 4\n",
        "#if income is between 5 and 10 then intst is 2\n",
        "#if income is between 2 and 5 then intst is 1\n",
        "#else intst is 0\n",
        "\n",
        "#Print intst"
      ]
    },
    {
      "cell_type": "code",
      "execution_count": null,
      "metadata": {
        "id": "CqWEc93eEuIW",
        "outputId": "7f12da1c-f94e-4501-ec1c-c8d1a02d3f37"
      },
      "outputs": [
        {
          "name": "stdout",
          "output_type": "stream",
          "text": [
            "it is five\n"
          ]
        }
      ],
      "source": [
        "n = 5\n",
        "if (n < 5):\n",
        "    print(\"TRUE\")\n",
        "    print(\"IT is less than five\")\n",
        "elif (n == 5):\n",
        "    print(\"it is five\")\n",
        "else:\n",
        "    print(\"FALSE\")\n",
        "    print(\"IT is greater than five\")"
      ]
    },
    {
      "cell_type": "code",
      "execution_count": null,
      "metadata": {
        "id": "UfESVbkqEuIW"
      },
      "outputs": [],
      "source": [
        "\n",
        "#Write the sum up to n-1 take input n with while\n"
      ]
    },
    {
      "cell_type": "code",
      "execution_count": null,
      "metadata": {
        "colab": {
          "base_uri": "https://localhost:8080/"
        },
        "id": "KofgorNXEuIW",
        "outputId": "af6329bc-ee26-42ac-f926-748e9926aad7"
      },
      "outputs": [
        {
          "output_type": "stream",
          "name": "stdout",
          "text": [
            "S\n",
            "r\n",
            "i\n",
            "n\n",
            "over\n"
          ]
        }
      ],
      "source": [
        "for i in \"Srinivas\":\n",
        "    print(i)\n",
        "    if (i == 'n'):\n",
        "        break\n",
        "print(\"over\")\n"
      ]
    },
    {
      "cell_type": "code",
      "source": [
        "\n",
        "# in a string of digits write the first three odd digits\n",
        "#024525275\n",
        "#557\n",
        "s=\"123456789\"\n",
        "c=0\n",
        "for i in range(len(s)):\n",
        "  if c>=3:\n",
        "     break;  # 3 odd numbers are done\n",
        "  if(int(s[i])%2==1):\n",
        "    print(s[i])\n",
        "    c=c+1\n",
        "\n"
      ],
      "metadata": {
        "colab": {
          "base_uri": "https://localhost:8080/"
        },
        "id": "m0yi7eXwExCP",
        "outputId": "1481f1c5-23d4-47b7-fe9e-520556ddbb47"
      },
      "execution_count": null,
      "outputs": [
        {
          "output_type": "stream",
          "name": "stdout",
          "text": [
            "1\n",
            "3\n",
            "5\n"
          ]
        }
      ]
    },
    {
      "cell_type": "code",
      "source": [
        "for i in \"Srinivas\":\n",
        "    if (i == 'n'):\n",
        "        continue\n",
        "    print(i)\n",
        "print(\"over\")"
      ],
      "metadata": {
        "colab": {
          "base_uri": "https://localhost:8080/"
        },
        "id": "Dv5ulLP4NHWW",
        "outputId": "4b95ef15-5510-492d-829b-51ac7869f98c"
      },
      "execution_count": null,
      "outputs": [
        {
          "output_type": "stream",
          "name": "stdout",
          "text": [
            "S\n",
            "r\n",
            "i\n",
            "i\n",
            "v\n",
            "a\n",
            "s\n",
            "over\n"
          ]
        }
      ]
    },
    {
      "cell_type": "code",
      "source": [
        "#given a string can you print only odd characters\n",
        "s=\"0123456789\"\n",
        "for i in range(len(s)):\n",
        "    if (i%2 !=0):\n",
        "        continue\n",
        "    print(s[i])\n",
        "print(\"over\")"
      ],
      "metadata": {
        "colab": {
          "base_uri": "https://localhost:8080/"
        },
        "id": "BkPkr0clNif2",
        "outputId": "0ba6b244-a28c-47ae-8a21-6848f9dbf772"
      },
      "execution_count": null,
      "outputs": [
        {
          "output_type": "stream",
          "name": "stdout",
          "text": [
            "0\n",
            "2\n",
            "4\n",
            "6\n",
            "8\n",
            "over\n"
          ]
        }
      ]
    },
    {
      "cell_type": "code",
      "execution_count": null,
      "metadata": {
        "id": "0WKH6oJ7EuIX"
      },
      "outputs": [],
      "source": [
        "\n",
        "\n",
        "\n",
        "\n",
        "\n",
        "\n",
        "\n",
        "\n",
        "\n",
        "\n",
        "#can you come up with a logic for determining if a number is prime\n",
        "#lgic start with 2 explore all factors for n if none found it is prime\n",
        "import numpy as np\n",
        "import math\n",
        "def isPrime(n):\n",
        "    flag = True\n",
        "    for i in range(2,math.ceil( np.sqrt(n))):\n",
        "         if(n%i == 0):\n",
        "            flag = False\n",
        "            break\n",
        "    return flag\n"
      ]
    },
    {
      "cell_type": "code",
      "execution_count": null,
      "metadata": {
        "id": "oOUNnHfvEuIX",
        "outputId": "8f8fac60-ceb4-426b-bafa-9880f3da29af"
      },
      "outputs": [
        {
          "data": {
            "text/plain": [
              "True"
            ]
          },
          "execution_count": 71,
          "metadata": {},
          "output_type": "execute_result"
        }
      ],
      "source": [
        "isPrime(23)"
      ]
    },
    {
      "cell_type": "code",
      "source": [
        "for i in range(2,11):\n",
        "  print(i)\n",
        "\n",
        "\n",
        "\n"
      ],
      "metadata": {
        "colab": {
          "base_uri": "https://localhost:8080/"
        },
        "id": "dtStmWWsN_tX",
        "outputId": "0dfcc92d-704f-49f3-d41b-e2172af0cef7"
      },
      "execution_count": null,
      "outputs": [
        {
          "output_type": "stream",
          "name": "stdout",
          "text": [
            "2\n",
            "3\n",
            "4\n",
            "5\n",
            "6\n",
            "7\n",
            "8\n",
            "9\n",
            "10\n"
          ]
        }
      ]
    },
    {
      "cell_type": "code",
      "source": [
        "n=22\n",
        "for i in range(4,n):\n",
        "  if i%2==1 :\n",
        "    continue\n",
        "  print(i)"
      ],
      "metadata": {
        "colab": {
          "base_uri": "https://localhost:8080/"
        },
        "id": "kqokY-TjHxJ4",
        "outputId": "2d6941cf-3e22-48b6-dd78-f1fb3a1e267f"
      },
      "execution_count": null,
      "outputs": [
        {
          "output_type": "stream",
          "name": "stdout",
          "text": [
            "4\n",
            "6\n",
            "8\n",
            "10\n",
            "12\n",
            "14\n",
            "16\n",
            "18\n",
            "20\n"
          ]
        }
      ]
    },
    {
      "cell_type": "code",
      "source": [
        "#take two nos low and high\n",
        "#write all odd nos between low and high both excluded ...use while\n",
        "\n",
        "\n"
      ],
      "metadata": {
        "id": "IBNENRVKPRC7"
      },
      "execution_count": null,
      "outputs": []
    },
    {
      "cell_type": "code",
      "execution_count": null,
      "metadata": {
        "id": "GqwVhMOQEuIY",
        "outputId": "5c375108-b0e6-4c6e-802a-bfcbd3877942"
      },
      "outputs": [
        {
          "data": {
            "text/plain": [
              "12"
            ]
          },
          "execution_count": 6,
          "metadata": {},
          "output_type": "execute_result"
        }
      ],
      "source": [
        "sumOdd(10)"
      ]
    },
    {
      "cell_type": "code",
      "execution_count": null,
      "metadata": {
        "id": "NQFLaCa_EuIY",
        "outputId": "98923d26-041f-4aa4-a091-53ddf644b19f"
      },
      "outputs": [
        {
          "name": "stdout",
          "output_type": "stream",
          "text": [
            "S\n",
            "r\n",
            "n\n",
            "v\n",
            "a\n",
            "s\n"
          ]
        }
      ],
      "source": [
        "for i in \"Srinivas\":\n",
        "    if i == 'i':\n",
        "        continue  #skips that iteration to next iteration\n",
        "    print(i)"
      ]
    },
    {
      "cell_type": "code",
      "execution_count": null,
      "metadata": {
        "id": "31mKiPCQEuIZ",
        "outputId": "b54ddfe3-6aed-4e95-84d8-e92c91bcffdd",
        "colab": {
          "base_uri": "https://localhost:8080/"
        }
      },
      "outputs": [
        {
          "output_type": "stream",
          "name": "stdout",
          "text": [
            "Enter a number: 11\n",
            "1\n",
            "3\n",
            "5\n",
            "7\n",
            "9\n"
          ]
        }
      ],
      "source": [
        "n = int(input(\"Enter a number: \"))\n",
        "for i in range(n):\n",
        "\n",
        "    if (i%2==0):\n",
        "        continue\n",
        "\n",
        "    print(i)\n"
      ]
    },
    {
      "cell_type": "code",
      "source": [
        "def isEven(n):   #function is a reusable code with parameters\n",
        "  if (n%2==0):\n",
        "    return True\n",
        "  else:\n",
        "    return False\n",
        "\n",
        "\n",
        "\n",
        "\n"
      ],
      "metadata": {
        "id": "7akLMR-gTNOJ"
      },
      "execution_count": null,
      "outputs": []
    },
    {
      "cell_type": "code",
      "source": [
        "isEven(32)"
      ],
      "metadata": {
        "colab": {
          "base_uri": "https://localhost:8080/"
        },
        "id": "KQoUehKVTeP2",
        "outputId": "2712f093-5582-45e6-fb57-15e15d5cac49"
      },
      "execution_count": null,
      "outputs": [
        {
          "output_type": "execute_result",
          "data": {
            "text/plain": [
              "True"
            ]
          },
          "metadata": {},
          "execution_count": 16
        }
      ]
    },
    {
      "cell_type": "code",
      "execution_count": null,
      "metadata": {
        "id": "m7WWcOcAEuIc"
      },
      "outputs": [],
      "source": [
        "x = int(input(\"enter the number\"))  #Find all factors of x\n",
        "for i in range(1, x):\n",
        "        if i == 1 :\n",
        "            continue\n",
        "        if i > x/2:\n",
        "            break\n",
        "        if x % i == 0:\n",
        "            print(i)\n"
      ]
    },
    {
      "cell_type": "code",
      "execution_count": null,
      "metadata": {
        "id": "vs4dFDEQEuId"
      },
      "outputs": [],
      "source": [
        "#for a range of n say 20 print only odd numbers\n",
        "#skip even numbers with continue"
      ]
    },
    {
      "cell_type": "code",
      "execution_count": null,
      "metadata": {
        "id": "oRU6UcxsEuId"
      },
      "outputs": [],
      "source": [
        "#Let us say we give n as input\n",
        "#print all nos form 1 to n\n",
        "#print all nos upto n/2 using break\n",
        "\n",
        "n = int(input(\"Enter a number: \"))\n",
        "for i in range(n):\n",
        "    if i > n/2:\n",
        "        break\n",
        "    print(i)\n",
        "print(\"over\")"
      ]
    },
    {
      "cell_type": "code",
      "execution_count": null,
      "metadata": {
        "id": "FtJacTP1EuId"
      },
      "outputs": [],
      "source": [
        "#Sum to n whith while loop n is input\n",
        "i=0\n",
        "sum=0\n",
        "n=int(input(\"Enter a number: \"))\n",
        "while i <= n:\n",
        "    sum = sum + i\n",
        "    i=i+1\n",
        "print(sum)"
      ]
    },
    {
      "cell_type": "code",
      "execution_count": null,
      "metadata": {
        "id": "ad0BmpQsEuId"
      },
      "outputs": [],
      "source": []
    },
    {
      "cell_type": "code",
      "execution_count": null,
      "metadata": {
        "id": "gf1J1NmFEuId"
      },
      "outputs": [],
      "source": [
        "#Sum to n - 1 whith while loop n is input\n",
        "i=0\n",
        "sum=0\n",
        "n=int(input(\"Enter a number: \"))\n",
        "while i < n:\n",
        "    sum = sum + i\n",
        "    i=i+1\n",
        "print(sum)\n",
        "#1 + 2 + ..+ n"
      ]
    },
    {
      "cell_type": "code",
      "execution_count": null,
      "metadata": {
        "id": "Zs9AstyQEuId"
      },
      "outputs": [],
      "source": [
        "i=0\n",
        "while i < 10:\n",
        "    print(i)\n",
        "    i=i+1"
      ]
    },
    {
      "cell_type": "code",
      "execution_count": null,
      "metadata": {
        "id": "g3fIqSmLEuId"
      },
      "outputs": [],
      "source": [
        "# This function computes sum up to n - 1\n",
        "# n is taken as input from user\n",
        "#sum is intermediate variable carrying the result\n",
        "\n",
        "sum=0\n",
        "n = int(input(\"Enter a number: \"))\n",
        "for i in range(n): #print numbers from 0 to n-1 0\n",
        "    sum = sum + i\n",
        "print(sum)\n"
      ]
    }
  ],
  "metadata": {
    "kernelspec": {
      "display_name": "Python 3",
      "language": "python",
      "name": "python3"
    },
    "language_info": {
      "codemirror_mode": {
        "name": "ipython",
        "version": 3
      },
      "file_extension": ".py",
      "mimetype": "text/x-python",
      "name": "python",
      "nbconvert_exporter": "python",
      "pygments_lexer": "ipython3",
      "version": "3.8.5"
    },
    "colab": {
      "provenance": [],
      "include_colab_link": true
    }
  },
  "nbformat": 4,
  "nbformat_minor": 0
}